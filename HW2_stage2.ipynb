{
 "cells": [
  {
   "cell_type": "code",
   "execution_count": 1,
   "metadata": {},
   "outputs": [
    {
     "name": "stdout",
     "output_type": "stream",
     "text": [
      "120 120 120 240\n"
     ]
    }
   ],
   "source": [
    "import glob\n",
    "\n",
    "frac_imgs_path = glob.glob('./Scaphoid/Images/Fracture/*')\n",
    "norm_imgs_path = glob.glob('./Scaphoid/Images/Normal/*')\n",
    "frac_cord_path = glob.glob('./Scaphoid/Annotations/Fracture_Coordinate/*')\n",
    "slice_path = glob.glob('./Scaphoid/Annotations/Scaphoid_Slice/*') # json 檔\n",
    "\n",
    "print(len(frac_imgs_path), len(norm_imgs_path), len(frac_cord_path), len(slice_path))\n"
   ]
  },
  {
   "cell_type": "code",
   "execution_count": null,
   "metadata": {},
   "outputs": [],
   "source": []
  },
  {
   "cell_type": "code",
   "execution_count": 2,
   "metadata": {},
   "outputs": [
    {
     "name": "stdout",
     "output_type": "stream",
     "text": [
      "240\n"
     ]
    },
    {
     "data": {
      "text/html": [
       "<div>\n",
       "<style scoped>\n",
       "    .dataframe tbody tr th:only-of-type {\n",
       "        vertical-align: middle;\n",
       "    }\n",
       "\n",
       "    .dataframe tbody tr th {\n",
       "        vertical-align: top;\n",
       "    }\n",
       "\n",
       "    .dataframe thead th {\n",
       "        text-align: right;\n",
       "    }\n",
       "</style>\n",
       "<table border=\"1\" class=\"dataframe\">\n",
       "  <thead>\n",
       "    <tr style=\"text-align: right;\">\n",
       "      <th></th>\n",
       "      <th>img_id</th>\n",
       "      <th>frac</th>\n",
       "      <th>x1</th>\n",
       "      <th>y1</th>\n",
       "      <th>x2</th>\n",
       "      <th>y2</th>\n",
       "    </tr>\n",
       "  </thead>\n",
       "  <tbody>\n",
       "    <tr>\n",
       "      <th>0</th>\n",
       "      <td>00075616-AP0</td>\n",
       "      <td>1.0</td>\n",
       "      <td>751</td>\n",
       "      <td>873</td>\n",
       "      <td>794</td>\n",
       "      <td>945</td>\n",
       "    </tr>\n",
       "    <tr>\n",
       "      <th>1</th>\n",
       "      <td>00169382 L 51F AP0</td>\n",
       "      <td>0.0</td>\n",
       "      <td>679</td>\n",
       "      <td>823</td>\n",
       "      <td>842</td>\n",
       "      <td>984</td>\n",
       "    </tr>\n",
       "    <tr>\n",
       "      <th>2</th>\n",
       "      <td>00230304 R 50F AP0</td>\n",
       "      <td>0.0</td>\n",
       "      <td>867</td>\n",
       "      <td>1007</td>\n",
       "      <td>943</td>\n",
       "      <td>1092</td>\n",
       "    </tr>\n",
       "    <tr>\n",
       "      <th>3</th>\n",
       "      <td>00293717 L 77M AP0</td>\n",
       "      <td>0.0</td>\n",
       "      <td>663</td>\n",
       "      <td>856</td>\n",
       "      <td>912</td>\n",
       "      <td>1091</td>\n",
       "    </tr>\n",
       "    <tr>\n",
       "      <th>4</th>\n",
       "      <td>00454212-LOB0</td>\n",
       "      <td>1.0</td>\n",
       "      <td>585</td>\n",
       "      <td>776</td>\n",
       "      <td>996</td>\n",
       "      <td>1189</td>\n",
       "    </tr>\n",
       "  </tbody>\n",
       "</table>\n",
       "</div>"
      ],
      "text/plain": [
       "               img_id  frac   x1    y1   x2    y2\n",
       "0        00075616-AP0   1.0  751   873  794   945\n",
       "1  00169382 L 51F AP0   0.0  679   823  842   984\n",
       "2  00230304 R 50F AP0   0.0  867  1007  943  1092\n",
       "3  00293717 L 77M AP0   0.0  663   856  912  1091\n",
       "4       00454212-LOB0   1.0  585   776  996  1189"
      ]
     },
     "execution_count": 2,
     "metadata": {},
     "output_type": "execute_result"
    }
   ],
   "source": [
    "import pandas as pd\n",
    "import json\n",
    "import numpy as np\n",
    "import os\n",
    "df = pd.DataFrame(columns = ['img_id' , 'frac', 'x1', 'y1', 'x2', 'y2'])\n",
    "for i in slice_path:\n",
    "    basename = os.path.basename(i)\n",
    "    img_id = os.path.splitext(basename)[0]\n",
    "    # print(img_id)\n",
    "    with open('./Scaphoid/Annotations/Scaphoid_Slice/' + img_id + '.json') as f:\n",
    "            data_bbox = json.load(f)[0]['bbox']\n",
    "    if os.path.exists('./Scaphoid/Annotations/Fracture_Coordinate/' + img_id + '.csv'): # 在 Fracture 的資料夾中\n",
    "        df = df.append({'img_id':img_id ,\n",
    "                        'frac':float(1), # '1' stands for fracture scaphoid\n",
    "                        'x1':int(data_bbox[0]), \n",
    "                        'y1':int(data_bbox[2]), \n",
    "                        'x2':int(data_bbox[1]), \n",
    "                        'y2':int(data_bbox[3])} , ignore_index=True)\n",
    "\n",
    "    else:\n",
    "        df = df.append({'img_id':img_id ,\n",
    "                        'frac':float(0),  # '0' stands for fracture scaphoid\n",
    "                        'x1':int(data_bbox[0]), \n",
    "                        'y1':int(data_bbox[2]), \n",
    "                        'x2':int(data_bbox[1]), \n",
    "                        'y2':int(data_bbox[3])} , ignore_index=True)\n",
    "\n",
    "\n",
    "print(len(df))\n",
    "df.head()"
   ]
  },
  {
   "cell_type": "code",
   "execution_count": 3,
   "metadata": {},
   "outputs": [
    {
     "name": "stderr",
     "output_type": "stream",
     "text": [
      "C:\\Users\\Ming\\AppData\\Local\\Programs\\Python\\Python38\\lib\\site-packages\\torchvision\\io\\image.py:11: UserWarning: Failed to load image Python extension: Could not find module 'C:\\Users\\Ming\\AppData\\Local\\Programs\\Python\\Python38\\Lib\\site-packages\\torchvision\\image.pyd' (or one of its dependencies). Try using the full path with constructor syntax.\n",
      "  warn(f\"Failed to load image Python extension: {e}\")\n"
     ]
    }
   ],
   "source": [
    "from albumentations.pytorch.transforms import ToTensorV2\n",
    "from albumentations import (HorizontalFlip, ShiftScaleRotate, VerticalFlip, Normalize, Flip,\n",
    "                            Compose, GaussNoise)\n",
    "import torchvision.transforms as transforms\n",
    "\n",
    "\n",
    "# Albumentations\n",
    "def get_train_transform():\n",
    "    return transforms.Compose([\n",
    "        transforms.ToTensor()\n",
    "    ])\n",
    "def get_valid_transform():\n",
    "    return transforms.Compose([\n",
    "        transforms.ToTensor()\n",
    "    ])"
   ]
  },
  {
   "cell_type": "code",
   "execution_count": 4,
   "metadata": {},
   "outputs": [],
   "source": [
    "from torch.utils.data import DataLoader, Dataset\n",
    "import cv2\n",
    "import torch\n",
    "class Clip_classification_HandDataset(Dataset):\n",
    "    def __init__(self, data_frame, transforms) -> None:\n",
    "        super().__init__()\n",
    "        self.df = data_frame\n",
    "        self.images = data_frame['img_id']\n",
    "        # print(len(self.images))\n",
    "        self.transforms = transforms\n",
    "        \n",
    "    def __len__(self):\n",
    "        return len(self.images)\n",
    "\n",
    "    def __getitem__(self, idx):\n",
    "        # print(idx, self.images[idx])\n",
    "        # print(self.images[idx])\n",
    "        image_filename = str(self.images[idx]) + '.bmp'\n",
    "        # print(image_filename)\n",
    "        if os.path.exists('./Scaphoid/Images/Fracture/' + image_filename): # 在 Fracture 的資料夾中\n",
    "            image_arr = cv2.imread('./Scaphoid/Images/Fracture/' + image_filename, cv2.IMREAD_COLOR)\n",
    "        elif os.path.exists('./Scaphoid/Images/Normal/' + image_filename): # 在 Normal 的資料夾中\n",
    "            image_arr = cv2.imread('./Scaphoid/Images/Normal/' + image_filename, cv2.IMREAD_COLOR)\n",
    "        else:\n",
    "            print(\"Error Loading img\")\n",
    "        \n",
    "        image_arr = cv2.cvtColor(image_arr, cv2.COLOR_BGR2RGB).astype(np.float32) \n",
    "        image_arr /= 255.0\n",
    "        \n",
    "        image_id = self.images[idx]\n",
    "        point = self.df[self.df['img_id'] == image_id]\n",
    "        clip_bbox = point[['x1', 'x2', 'y1', 'y2']].values   \n",
    "        image_arr = image_arr[clip_bbox[:, 1][0]:clip_bbox[:, 3][0], clip_bbox[:, 0][0]:clip_bbox[:, 2][0]]\n",
    "        image_arr = cv2.resize(image_arr, (500, 500), interpolation=cv2.INTER_LINEAR)\n",
    "        image_arr = image_arr.transpose((2,0,1))\n",
    "\n",
    "        if point[['frac']].values == 1:\n",
    "            label = 1\n",
    "        if point[['frac']].values == 0:\n",
    "            label = 0\n",
    "            \n",
    "        return image_arr, label, image_id\n"
   ]
  },
  {
   "cell_type": "code",
   "execution_count": 5,
   "metadata": {},
   "outputs": [
    {
     "name": "stdout",
     "output_type": "stream",
     "text": [
      "240\n"
     ]
    }
   ],
   "source": [
    "print(len(df))\n",
    "train_data = Clip_classification_HandDataset(df[:80], get_train_transform())\n",
    "val = df[220:]\n",
    "val.reset_index(inplace=True, drop=True)\n",
    "val_data = Clip_classification_HandDataset(val, get_valid_transform())\n",
    "\n",
    "\n",
    "# batching\n",
    "def collate_fn(batch):\n",
    "    return tuple(zip(*batch))\n",
    "\n",
    "\n",
    "train_data_loader = DataLoader(\n",
    "    train_data,\n",
    "    batch_size=4,\n",
    "    shuffle=False,\n",
    "    # num_workers=1,\n",
    "    collate_fn=collate_fn\n",
    ")\n",
    "\n",
    "valid_data_loader = DataLoader(\n",
    "    val_data,\n",
    "    batch_size=4,\n",
    "    shuffle=False,\n",
    "    # num_workers=1,\n",
    "    collate_fn=collate_fn\n",
    ")\n",
    "\n"
   ]
  },
  {
   "cell_type": "code",
   "execution_count": 213,
   "metadata": {},
   "outputs": [
    {
     "name": "stdout",
     "output_type": "stream",
     "text": [
      "20\n"
     ]
    }
   ],
   "source": [
    "print(len(val_data))"
   ]
  },
  {
   "cell_type": "code",
   "execution_count": 6,
   "metadata": {},
   "outputs": [
    {
     "data": {
      "image/png": "[encoded data removed]",
      "text/plain": [
       "<Figure size 360x360 with 1 Axes>"
      ]
     },
     "metadata": {
      "needs_background": "light"
     },
     "output_type": "display_data"
    }
   ],
   "source": [
    "import matplotlib.pyplot as plt\n",
    "\n",
    "def image_convert(image):\n",
    "    # image = image.clone().cpu().numpy()\n",
    "    image = image.transpose((1,2,0))\n",
    "    image = (image * 255).astype(np.uint8)\n",
    "    return image\n",
    "\n",
    "def plot_img(data, idx):\n",
    "    out = data.__getitem__(idx)\n",
    "    image = image_convert(out[0])\n",
    "    image = np.ascontiguousarray(image)\n",
    "    # bb = out[1]['boxes'].numpy()\n",
    "    # for i in bb:\n",
    "    #     cv2.rectangle(image, (int(i[0]),int(i[1])), (int(i[2]),int(i[3])), (0,255,0), thickness=1)\n",
    "    plt.figure(figsize=(5,5))\n",
    "    plt.imshow(image)\n",
    "\n",
    "plot_img(val_data, 2)\n",
    "# val_data[3]\n"
   ]
  },
  {
   "cell_type": "code",
   "execution_count": 201,
   "metadata": {},
   "outputs": [
    {
     "name": "stderr",
     "output_type": "stream",
     "text": [
      "100%|██████████| 20/20 [04:59<00:00, 14.99s/it]"
     ]
    },
    {
     "name": "stdout",
     "output_type": "stream",
     "text": [
      "\n",
      " Epoch of Training: 0.0000 %  (loss = 0.6979780524969101, accuracy = 0.5249999761581421, epoch: 0)\n",
      " ====================================================\n"
     ]
    },
    {
     "name": "stderr",
     "output_type": "stream",
     "text": [
      "\n"
     ]
    }
   ],
   "source": [
    "import torchvision\n",
    "import time\n",
    "from tqdm import tqdm\n",
    "device = torch.device('cuda') if torch.cuda.is_available() else torch.device('cpu')\n",
    "# print(device)\n",
    "model = torch.nn.Sequential(\n",
    "            torchvision.models.resnet50(pretrained=True), \n",
    "            torch.nn.ReLU(),\n",
    "            torch.nn.Linear(1000, 2)\n",
    "        ).to(device)\n",
    "\n",
    "optimizer = torch.optim.SGD(model.parameters(), lr = 0.0001, momentum = 0.9, weight_decay=0.0005)\n",
    "loss_func = torch.nn.CrossEntropyLoss()\n",
    "num_epochs = 1\n",
    "train_loss_min = 0.9\n",
    "total_train_loss = []\n",
    "number_of_batch = len(train_data) / 4\n",
    "number_of_data = len(train_data)\n",
    "for epoch in range(num_epochs):\n",
    "    # print(f'Epoch :{epoch + 1}')\n",
    "    correct_predict = 0\n",
    "    total_batch_loss = 0\n",
    "\n",
    "    model.train()\n",
    "    for step, (images, targets, image_ids) in enumerate(tqdm(train_data_loader)):\n",
    "        images = list(image for image in images)\n",
    "        images = torch.tensor(images).to(device)\n",
    "        targets = torch.tensor(targets).to(device)\n",
    "        output = model(images)\n",
    "        # print(output)\n",
    "        \n",
    "        loss = loss_func(output, targets)\n",
    "        optimizer.zero_grad()\n",
    "        loss.backward()\n",
    "        optimizer.step()\n",
    "        _, predict = torch.max(torch.nn.functional.softmax(output, dim = 1), 1)\n",
    "        correct_predict += (predict.data.cpu() == targets).sum()\n",
    "        total_batch_loss += loss.data.cpu().numpy()\n",
    "\n",
    "\n",
    "print(\"\\n Epoch of Training: %.4f\" % ((epoch / num_epochs) * 100.), \"%\", \" (loss = {}, accuracy = {}, epoch: {})\\n\".format(total_batch_loss / number_of_batch, correct_predict / number_of_data, epoch), end=\" \")\n",
    "print(\"====================================================\")\n",
    "\n",
    "torch.save(model.state_dict(), 'classifier_stage2.pth')\n"
   ]
  },
  {
   "cell_type": "code",
   "execution_count": 10,
   "metadata": {},
   "outputs": [
    {
     "name": "stderr",
     "output_type": "stream",
     "text": [
      " 20%|██        | 1/5 [00:05<00:21,  5.40s/it]"
     ]
    },
    {
     "name": "stdout",
     "output_type": "stream",
     "text": [
      "tensor(3)\n"
     ]
    },
    {
     "name": "stderr",
     "output_type": "stream",
     "text": [
      " 40%|████      | 2/5 [00:11<00:17,  5.70s/it]"
     ]
    },
    {
     "name": "stdout",
     "output_type": "stream",
     "text": [
      "tensor(6)\n"
     ]
    },
    {
     "name": "stderr",
     "output_type": "stream",
     "text": [
      " 60%|██████    | 3/5 [00:17<00:12,  6.12s/it]"
     ]
    },
    {
     "name": "stdout",
     "output_type": "stream",
     "text": [
      "tensor(10)\n"
     ]
    },
    {
     "name": "stderr",
     "output_type": "stream",
     "text": [
      " 80%|████████  | 4/5 [00:24<00:06,  6.11s/it]"
     ]
    },
    {
     "name": "stdout",
     "output_type": "stream",
     "text": [
      "tensor(14)\n"
     ]
    },
    {
     "name": "stderr",
     "output_type": "stream",
     "text": [
      "100%|██████████| 5/5 [00:29<00:00,  5.99s/it]"
     ]
    },
    {
     "name": "stdout",
     "output_type": "stream",
     "text": [
      "tensor(17)\n"
     ]
    },
    {
     "name": "stderr",
     "output_type": "stream",
     "text": [
      "\n"
     ]
    }
   ],
   "source": [
    "from tqdm import tqdm\n",
    "import torchvision\n",
    "import torch\n",
    "device = torch.device('cuda') if torch.cuda.is_available() else torch.device('cpu')\n",
    "classifier_model = torch.nn.Sequential(\n",
    "            torchvision.models.resnet50(pretrained=True), \n",
    "            torch.nn.ReLU(),\n",
    "            torch.nn.Linear(1000, 2)\n",
    "        ).to(device)\n",
    "\n",
    "classifier_model.load_state_dict(torch.load('classifier_stage2_1231.pth', map_location=torch.device('cpu')))\n",
    "\n",
    "classifier_model.eval()\n",
    "classifier_pred_list = []\n",
    "correct_predict = 0\n",
    "for step, (images, targets, image_ids) in enumerate(tqdm(valid_data_loader)):\n",
    "    images = list(image for image in images)\n",
    "    images = torch.tensor(images).to(device)\n",
    "    targets = torch.tensor(targets).to(device)\n",
    "    output = classifier_model(images)\n",
    "    # print(output)\n",
    "    \n",
    "    _, predict = torch.max(torch.nn.functional.softmax(output, dim = 1), 1)\n",
    "    correct_predict += (predict.data.cpu() == targets).sum()\n",
    "\n",
    "    for i in predict:\n",
    "        classifier_pred_list.append(i)\n",
    "    print(correct_predict)\n"
   ]
  },
  {
   "cell_type": "code",
   "execution_count": 9,
   "metadata": {},
   "outputs": [
    {
     "name": "stdout",
     "output_type": "stream",
     "text": [
      "\n"
     ]
    },
    {
     "data": {
      "text/plain": [
       "'123'"
      ]
     },
     "execution_count": 9,
     "metadata": {},
     "output_type": "execute_result"
    }
   ],
   "source": [
    "text =\"\"\n",
    "print(text)\n",
    "text += \"123\"\n",
    "text"
   ]
  }
 ],
 "metadata": {
  "interpreter": {
   "hash": "3e6445b1d210f435466804007cce2b2c7a1af72cd43695e22846c524a381aaf3"
  },
  "kernelspec": {
   "display_name": "Python 3.8.7 64-bit",
   "language": "python",
   "name": "python3"
  },
  "language_info": {
   "codemirror_mode": {
    "name": "ipython",
    "version": 3
   },
   "file_extension": ".py",
   "mimetype": "text/x-python",
   "name": "python",
   "nbconvert_exporter": "python",
   "pygments_lexer": "ipython3",
   "version": "3.8.7"
  },
  "orig_nbformat": 4
 },
 "nbformat": 4,
 "nbformat_minor": 2
}
